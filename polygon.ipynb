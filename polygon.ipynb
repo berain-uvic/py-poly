{
 "cells": [
  {
   "cell_type": "code",
   "execution_count": 1,
   "metadata": {},
   "outputs": [],
   "source": [
    "import math\n",
    "\n",
    "\n",
    "class Polygon:\n",
    "    def __init__(self, n, R):\n",
    "        if n < 3:\n",
    "            raise ValueError('Polygon must have at least 3 vertices.')\n",
    "        self._n = n\n",
    "        self._R = R\n",
    "\n",
    "    @property\n",
    "    def count_edges(self):\n",
    "        return self._n\n",
    "    \n",
    "    @property\n",
    "    def count_vertices(self):\n",
    "        return self._n\n",
    "    \n",
    "    @property\n",
    "    def circumradius(self):\n",
    "        return self._R\n",
    "\n",
    "    @property\n",
    "    def interior_angle(self):\n",
    "        return (self._n - 2) * 180 / self._n\n",
    "\n",
    "    @property\n",
    "    def side_length(self):\n",
    "        return 2 * self._R * math.sin(math.pi / self._n)\n",
    "\n",
    "    @property\n",
    "    def apothem(self):\n",
    "        return self._R * math.cos(math.pi / self._n)\n",
    "\n",
    "    @property\n",
    "    def area(self):\n",
    "        return self._n / 2 * self.side_length * self.apothem\n",
    "\n",
    "    @property\n",
    "    def perimeter(self):\n",
    "        return self._n * self.side_length\n",
    "\n",
    "    def __repr__(self) -> str:\n",
    "        return f'Polygon(n={self._n}, R={self._R})'\n",
    "\n",
    "    def __eq__(self, other) -> bool:\n",
    "        if isinstance(other, Polygon):\n",
    "            return (self.count_edges, self.circumradius) == (other.count_edges, other.circumradius)\n",
    "        else:\n",
    "            return NotImplemented\n",
    "\n",
    "    def __gt__(self, other) -> bool:\n",
    "        if isinstance(other, Polygon):\n",
    "            return self.count_edges > other.count_edges\n",
    "        else:\n",
    "            return NotImplemented\n"
   ]
  },
  {
   "cell_type": "code",
   "execution_count": 2,
   "metadata": {},
   "outputs": [],
   "source": [
    "def test_polygon():\n",
    "    rel_tol = 0.001\n",
    "    abs_tol = 0.001\n",
    "\n",
    "    try:\n",
    "        p = Polygon(2, 10)\n",
    "        assert False, ('Creating a Polygon with 2 sides: '\n",
    "                       ' Exception expected, not received')\n",
    "    except ValueError:\n",
    "        pass\n",
    "\n",
    "    n = 3\n",
    "    R =1\n",
    "    p = Polygon(n, R)\n",
    "    assert str(p) == f'Polygon(n=3, R=1)', f'actual: {str(p)}'\n",
    "    assert p.count_vertices == n, (f'actual: {p.count_vertices}, '\n",
    "                                   f' expected: {n}')\n",
    "    assert p.count_edges == n\n",
    "    assert p.circumradius == R\n",
    "    assert p.interior_angle == 60\n",
    "\n",
    "\n",
    "    n = 4\n",
    "    R = 1\n",
    "    p = Polygon(n, R)\n",
    "    assert math.isclose(p.interior_angle, 90)\n",
    "    assert math.isclose(p.area, 2.0,\n",
    "                        rel_tol=rel_tol,\n",
    "                        abs_tol=abs_tol), (f'actual: {p.area}, '\n",
    "                                            f' expected: {2.0}')\n",
    "    \n",
    "    assert math.isclose(p.side_length, math.sqrt(2),\n",
    "                        rel_tol=rel_tol,\n",
    "                        abs_tol=abs_tol)\n",
    "    \n",
    "    assert math.isclose(p.perimeter, 4 * math.sqrt(2),\n",
    "                        rel_tol=rel_tol,\n",
    "                        abs_tol=abs_tol)"
   ]
  },
  {
   "cell_type": "code",
   "execution_count": 3,
   "metadata": {},
   "outputs": [],
   "source": [
    "test_polygon()"
   ]
  },
  {
   "cell_type": "code",
   "execution_count": 7,
   "metadata": {},
   "outputs": [],
   "source": [
    "class Polygons:\n",
    "    def __init__(self, m, R) -> None:\n",
    "        if m < 3:\n",
    "            raise ValueError('m must be greater than 3')\n",
    "        self._m = m\n",
    "        self._R = R\n",
    "        self._polygons = [Polygon(i, R) for i in range(3, m+1)]\n",
    "        \n",
    "    @property\n",
    "    def max_efficiency(self):\n",
    "        max_eff = None\n",
    "        for ply in self._plygons:\n",
    "            pass\n",
    "        return \n",
    "    \n",
    "    def __getitem__(self):\n",
    "        pass\n",
    "\n",
    "    def __len__(self):\n",
    "        return self._m - 2\n",
    "\n",
    "    def __repr__(self) -> str:\n",
    "        return f'Polygons(m={self._m}, R={self._R})'\n",
    "        "
   ]
  },
  {
   "cell_type": "code",
   "execution_count": 5,
   "metadata": {},
   "outputs": [],
   "source": [
    "polygons = Polygons(3, 1)"
   ]
  },
  {
   "cell_type": "code",
   "execution_count": 6,
   "metadata": {},
   "outputs": [
    {
     "data": {
      "text/plain": [
       "1"
      ]
     },
     "execution_count": 6,
     "metadata": {},
     "output_type": "execute_result"
    }
   ],
   "source": [
    "len(polygons)"
   ]
  },
  {
   "cell_type": "code",
   "execution_count": 8,
   "metadata": {},
   "outputs": [],
   "source": [
    "p = Polygons(4, 2)"
   ]
  },
  {
   "cell_type": "code",
   "execution_count": 9,
   "metadata": {},
   "outputs": [
    {
     "data": {
      "text/plain": [
       "[Polygon(n=3, R=2), Polygon(n=4, R=2)]"
      ]
     },
     "execution_count": 9,
     "metadata": {},
     "output_type": "execute_result"
    }
   ],
   "source": [
    "p._polygons"
   ]
  },
  {
   "cell_type": "code",
   "execution_count": 11,
   "metadata": {},
   "outputs": [],
   "source": [
    "polygons = Polygons(8, 1)"
   ]
  },
  {
   "cell_type": "code",
   "execution_count": 12,
   "metadata": {},
   "outputs": [
    {
     "name": "stdout",
     "output_type": "stream",
     "text": [
      "Polygon(n=3, R=1)\n",
      "Polygon(n=4, R=1)\n",
      "Polygon(n=5, R=1)\n",
      "Polygon(n=6, R=1)\n",
      "Polygon(n=7, R=1)\n",
      "Polygon(n=8, R=1)\n"
     ]
    }
   ],
   "source": [
    "for p in polygons:\n",
    "    print(p)"
   ]
  },
  {
   "cell_type": "code",
   "execution_count": 13,
   "metadata": {},
   "outputs": [
    {
     "name": "stdout",
     "output_type": "stream",
     "text": [
      "Polygon(n=5, R=1)\n",
      "Polygon(n=6, R=1)\n",
      "Polygon(n=7, R=1)\n"
     ]
    }
   ],
   "source": [
    "for p in polygons[2:5]:\n",
    "    print(p)"
   ]
  },
  {
   "cell_type": "code",
   "execution_count": 16,
   "metadata": {},
   "outputs": [],
   "source": [
    "class Polygons:\n",
    "    def __init__(self, m, R) -> None:\n",
    "        if m < 3:\n",
    "            raise ValueError('m must be greater than 3')\n",
    "        self._m = m\n",
    "        self._R = R\n",
    "        self._polygons = [Polygon(i, R) for i in range(3, m+1)]\n",
    "        \n",
    "    @property\n",
    "    def max_efficiency_polygon(self):  \n",
    "        return max(self._polygons, key=lambda p: p.area / p.perimeter)\n",
    "    \n",
    "    def __getitem__(self, s):\n",
    "        return self._polygons[s]\n",
    "\n",
    "    def __len__(self):\n",
    "        return self._m - 2\n",
    "\n",
    "    def __repr__(self) -> str:\n",
    "        return f'Polygons(m={self._m}, R={self._R})'"
   ]
  },
  {
   "cell_type": "code",
   "execution_count": 17,
   "metadata": {},
   "outputs": [],
   "source": [
    "polygons = Polygons(8, 1)"
   ]
  },
  {
   "cell_type": "code",
   "execution_count": 18,
   "metadata": {},
   "outputs": [
    {
     "data": {
      "text/plain": [
       "Polygon(n=8, R=1)"
      ]
     },
     "execution_count": 18,
     "metadata": {},
     "output_type": "execute_result"
    }
   ],
   "source": [
    "polygons.max_efficiency_polygon"
   ]
  }
 ],
 "metadata": {
  "kernelspec": {
   "display_name": ".venv",
   "language": "python",
   "name": "python3"
  },
  "language_info": {
   "codemirror_mode": {
    "name": "ipython",
    "version": 3
   },
   "file_extension": ".py",
   "mimetype": "text/x-python",
   "name": "python",
   "nbconvert_exporter": "python",
   "pygments_lexer": "ipython3",
   "version": "3.11.4"
  }
 },
 "nbformat": 4,
 "nbformat_minor": 2
}
